{
 "cells": [
  {
   "cell_type": "code",
   "execution_count": 1,
   "id": "b98c3c1b",
   "metadata": {
    "scrolled": false
   },
   "outputs": [
    {
     "data": {
      "image/png": "[encoded data removed]",
      "text/plain": [
       "<Figure size 432x288 with 1 Axes>"
      ]
     },
     "metadata": {
      "needs_background": "light"
     },
     "output_type": "display_data"
    }
   ],
   "source": [
    "import random\n",
    "import matplotlib.pyplot as plt\n",
    "import numpy as np\n",
    "from sklearn import linear_model\n",
    "\n",
    "def generate_data(num_points, noise_factor):\n",
    "    data = []\n",
    "    for _ in range(num_points):\n",
    "        x = random.uniform(0, 10)  # Zufällige x-Werte zwischen 0 und 10 generieren\n",
    "        noise = random.uniform(-1, 1) * noise_factor  # Rauschen hinzufügen\n",
    "        y = 0.8 * x + 2 + noise  # y-Wert entsprechend der Geraden y = 0.8*x + 2 mit Rauschen generieren\n",
    "        data.append((x, y))\n",
    "    return data\n",
    "\n",
    "# Beispielaufruf mit 19 Datenpunkten und Rauschfaktor 1.5\n",
    "data_points = generate_data(19, 1.5)\n",
    "data_points_outlier = data_points.copy()\n",
    "\n",
    "data_points_outlier.append((8,15))\n",
    "\n",
    "x_values = np.reshape([point[0] for point in data_points],(-1,1))\n",
    "y_values = np.reshape([point[1] for point in data_points],(-1,1))\n",
    "\n",
    "x_values_outlier = np.reshape([point[0] for point in data_points_outlier],(-1,1))\n",
    "y_values_outlier = np.reshape([point[1] for point in data_points_outlier],(-1,1))\n",
    "\n",
    "\n",
    "regr = linear_model.LinearRegression()\n",
    "regr.fit(x_values, y_values)\n",
    "pred = regr.predict(x_values)\n",
    "\n",
    "regr_outlier = linear_model.LinearRegression()\n",
    "regr_outlier.fit(x_values_outlier, y_values_outlier)\n",
    "pred_outlier = regr_outlier.predict(x_values_outlier)\n",
    "\n",
    "plt.plot(x_values_outlier, pred_outlier, color=\"blue\", linewidth=1, label=\"with outlier instance\")\n",
    "plt.plot(x_values, pred, color=\"red\", linewidth=1, label=\"without outlier instance\")\n",
    "plt.legend(bbox_to_anchor=(1.05, 1), loc='upper left', borderaxespad=0., title=\"Model trained\")\n",
    "plt.scatter(x_values_outlier, y_values_outlier, color=\"black\")\n",
    "plt.xlabel('x')\n",
    "plt.ylabel('y')\n",
    "plt.title('Generated data points with outlier')\n",
    "plt.show()"
   ]
  },
  {
   "cell_type": "code",
   "execution_count": 2,
   "id": "7e49d9ae",
   "metadata": {},
   "outputs": [
    {
     "name": "stdout",
     "output_type": "stream",
     "text": [
      "Max Coef Without Outlier:\n",
      "0.0328787332339715\n",
      "Average Coef Without Outlier:\n",
      "0.013477110107246953\n",
      "Max Coef With Outlier:\n",
      "0.23392118056160938\n",
      "Average Coef With Outlier:\n",
      "0.029072926751172408\n"
     ]
    }
   ],
   "source": [
    "def calc_DFBETA(X, y):\n",
    "    coef = []\n",
    "    for elem in X:\n",
    "        indx = np.where(X == elem)[0]\n",
    "        X_withoutElem = np.delete(X, indx).reshape((-1,1))\n",
    "        y_withoutElem = np.delete(y, indx).reshape((-1,1))\n",
    "        regr = linear_model.LinearRegression()\n",
    "        regr.fit(X_withoutElem, y_withoutElem)\n",
    "        coef.append(regr.coef_[0][0])\n",
    "    return coef\n",
    "        \n",
    "coef_without_outlier = calc_DFBETA(x_values, y_values)\n",
    "coef_with_outlier = calc_DFBETA(x_values_outlier, y_values_outlier)\n",
    "\n",
    "coef1 = list(map(abs, coef_without_outlier - regr.coef_))[0]\n",
    "coef2 = list(map(abs, coef_with_outlier - regr_outlier.coef_))[0]\n",
    "\n",
    "print(\"Max Coef Without Outlier:\")\n",
    "print(coef1.max())\n",
    "print(\"Average Coef Without Outlier:\")\n",
    "print(np.average(coef1))\n",
    "print(\"Max Coef With Outlier:\")\n",
    "print(coef2.max())\n",
    "print(\"Average Coef With Outlier:\")\n",
    "print(np.average(coef2))"
   ]
  },
  {
   "cell_type": "code",
   "execution_count": null,
   "id": "07aab1b9",
   "metadata": {},
   "outputs": [],
   "source": []
  }
 ],
 "metadata": {
  "kernelspec": {
   "display_name": "Python 3",
   "language": "python",
   "name": "python3"
  },
  "language_info": {
   "codemirror_mode": {
    "name": "ipython",
    "version": 3
   },
   "file_extension": ".py",
   "mimetype": "text/x-python",
   "name": "python",
   "nbconvert_exporter": "python",
   "pygments_lexer": "ipython3",
   "version": "3.8.8"
  }
 },
 "nbformat": 4,
 "nbformat_minor": 5
}
